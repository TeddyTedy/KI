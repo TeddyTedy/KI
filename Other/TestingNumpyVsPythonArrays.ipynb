{
 "cells": [
  {
   "cell_type": "markdown",
   "metadata": {},
   "source": [
    "# Setup"
   ]
  },
  {
   "cell_type": "markdown",
   "metadata": {},
   "source": [
    "### Imports"
   ]
  },
  {
   "cell_type": "code",
   "execution_count": 149,
   "metadata": {},
   "outputs": [],
   "source": [
    "import numpy as np\n",
    "import time\n",
    "import copy"
   ]
  },
  {
   "cell_type": "markdown",
   "metadata": {},
   "source": [
    "### Measure Execution Time"
   ]
  },
  {
   "cell_type": "code",
   "execution_count": 150,
   "metadata": {},
   "outputs": [],
   "source": [
    "def measureMethod (methodToMeasure):\n",
    "    start = time.time()\n",
    "    for i in range(100000):\n",
    "        methodToMeasure()\n",
    "    end = time.time()\n",
    "    print(end - start)  "
   ]
  },
  {
   "cell_type": "markdown",
   "metadata": {},
   "source": [
    "# NumPY"
   ]
  },
  {
   "cell_type": "markdown",
   "metadata": {},
   "source": [
    "## Numpy methods to be measured"
   ]
  },
  {
   "cell_type": "code",
   "execution_count": 151,
   "metadata": {},
   "outputs": [],
   "source": [
    "numPyArray = np.array([[1, 2, 3, 4, 5], [6, 7, 8, 9, 10], [11, 12, 13, 14, 15], [16, 17, 18, 19, 20], [21, 22, 23, 24, 25]])\n",
    "\n",
    "def createNumPyArray():\n",
    "    tempArray = np.array([[1, 2, 3, 4, 5], [6, 7, 8, 9, 10], [11, 12, 13, 14, 15], [16, 17, 18, 19, 20], [21, 22, 23, 24, 25]])\n",
    "\n",
    "def deepCopyNumPyArray():\n",
    "    tempCopy = numPyArray.copy()\n",
    "\n",
    "def insertEndNumPyArray():\n",
    "    numPyArray[1] = np.concatenate((np.delete(numPyArray[1], 0, 0), [22]))  \n",
    "\n",
    "def insertBeginningNumpyArray():\n",
    "    numPyArray[1] = np.delete(np.insert(numPyArray[1], 0, 22), -1, 0)  "
   ]
  },
  {
   "cell_type": "markdown",
   "metadata": {},
   "source": [
    "### Measure Numpy Array Creation"
   ]
  },
  {
   "cell_type": "code",
   "execution_count": 152,
   "metadata": {},
   "outputs": [
    {
     "name": "stdout",
     "output_type": "stream",
     "text": [
      "0.46583008766174316\n"
     ]
    }
   ],
   "source": [
    "measureMethod(createNumPyArray)"
   ]
  },
  {
   "cell_type": "markdown",
   "metadata": {},
   "source": [
    "### Measure numpy deep copies creation"
   ]
  },
  {
   "cell_type": "code",
   "execution_count": 153,
   "metadata": {},
   "outputs": [
    {
     "name": "stdout",
     "output_type": "stream",
     "text": [
      "0.04199981689453125\n"
     ]
    }
   ],
   "source": [
    "measureMethod(deepCopyNumPyArray)"
   ]
  },
  {
   "cell_type": "markdown",
   "metadata": {},
   "source": [
    "### Measure Tile Insertion at the End/Rigth Side of the Numpy array"
   ]
  },
  {
   "cell_type": "code",
   "execution_count": 154,
   "metadata": {},
   "outputs": [
    {
     "name": "stdout",
     "output_type": "stream",
     "text": [
      "0.7433159351348877\n"
     ]
    }
   ],
   "source": [
    "measureMethod(insertEndNumPyArray)"
   ]
  },
  {
   "cell_type": "markdown",
   "metadata": {},
   "source": [
    "### Measure Tile Insertion at the Start/Left Side of the Numpy array"
   ]
  },
  {
   "cell_type": "code",
   "execution_count": 155,
   "metadata": {},
   "outputs": [
    {
     "name": "stdout",
     "output_type": "stream",
     "text": [
      "1.5637176036834717\n"
     ]
    }
   ],
   "source": [
    "measureMethod(insertBeginningNumpyArray)"
   ]
  },
  {
   "cell_type": "markdown",
   "metadata": {},
   "source": [
    "# Regular Python arrays"
   ]
  },
  {
   "cell_type": "markdown",
   "metadata": {},
   "source": [
    "### Python Array methods to be measured"
   ]
  },
  {
   "cell_type": "code",
   "execution_count": 1,
   "metadata": {},
   "outputs": [],
   "source": [
    "pythonArray = [[1, 2, 3, 4, 5], [6, 7, 8, 9, 10], [11, 12, 13, 14, 15], [16, 17, 18, 19, 20], [21, 22, 23, 24, 25]]\n",
    "\n",
    "def createPythonArray():\n",
    "    temp = [[1, 2, 3, 4, 5], [6, 7, 8, 9, 10], [11, 12, 13, 14, 15], [16, 17, 18, 19, 20], [21, 22, 23, 24, 25]]\n",
    "\n",
    "def deepCopyNumPyArray():\n",
    "    tempCopy = copy.deepcopy(pythonArray)\n",
    "\n",
    "def insertEndPythonArray():\n",
    "    pythonArray[1].pop(0)\n",
    "    pythonArray[1].append(0)\n",
    "\n",
    "def insertBeginningPythonArray():\n",
    "    pythonArray[1].pop()\n",
    "    pythonArray[1].insert(0, 22)"
   ]
  },
  {
   "cell_type": "code",
   "execution_count": 3,
   "metadata": {},
   "outputs": [
    {
     "name": "stdout",
     "output_type": "stream",
     "text": [
      "<class 'list'>\n"
     ]
    }
   ],
   "source": [
    "print(type(pythonArray))"
   ]
  },
  {
   "cell_type": "markdown",
   "metadata": {},
   "source": [
    "### Measure Array Creation"
   ]
  },
  {
   "cell_type": "code",
   "execution_count": 157,
   "metadata": {},
   "outputs": [
    {
     "name": "stdout",
     "output_type": "stream",
     "text": [
      "0.032999277114868164\n"
     ]
    }
   ],
   "source": [
    "measureMethod(createPythonArray)"
   ]
  },
  {
   "cell_type": "markdown",
   "metadata": {},
   "source": [
    "### Measure Deep Copying a Ptyhon array"
   ]
  },
  {
   "cell_type": "code",
   "execution_count": 158,
   "metadata": {},
   "outputs": [
    {
     "name": "stdout",
     "output_type": "stream",
     "text": [
      "1.5277674198150635\n"
     ]
    }
   ],
   "source": [
    "measureMethod(deepCopyNumPyArray)"
   ]
  },
  {
   "cell_type": "markdown",
   "metadata": {},
   "source": [
    "### Measure Tile Insertion at the End/Rigth Side of the Python array"
   ]
  },
  {
   "cell_type": "code",
   "execution_count": 159,
   "metadata": {},
   "outputs": [
    {
     "name": "stdout",
     "output_type": "stream",
     "text": [
      "0.01799917221069336\n"
     ]
    }
   ],
   "source": [
    "measureMethod(insertEndPythonArray)"
   ]
  },
  {
   "cell_type": "markdown",
   "metadata": {},
   "source": [
    "### Measure Tile Insertion at the Beginning/Left Side of the Python array"
   ]
  },
  {
   "cell_type": "code",
   "execution_count": 160,
   "metadata": {},
   "outputs": [
    {
     "name": "stdout",
     "output_type": "stream",
     "text": [
      "0.016000032424926758\n"
     ]
    }
   ],
   "source": [
    "measureMethod(insertBeginningPythonArray)"
   ]
  },
  {
   "cell_type": "markdown",
   "metadata": {},
   "source": [
    "# Sorting Arrays\n",
    "\n",
    "- ### Sorting Python Arrays\n",
    "    Sorting custom objects by a specific key and optionally reverse the list\n",
    "\n",
    "    [W3S schools](https://www.w3schools.com/python/ref_list_sort.asp)\n",
    "\n",
    "- ### Sorting Numpy Arrays\n",
    "\n",
    "    Sorting custom objects by a specific key and optionally reverse the list\n",
    "\n",
    "    [Numpy Doucumentation](https://numpy.org/doc/stable/reference/generated/numpy.sort.html)"
   ]
  }
 ],
 "metadata": {
  "interpreter": {
   "hash": "5a6cadbc704b95a96b9b501c613172263a288367c3c5569512bf129b9f5021b6"
  },
  "kernelspec": {
   "display_name": "Python 3.8.10 64-bit (windows store)",
   "language": "python",
   "name": "python3"
  },
  "language_info": {
   "codemirror_mode": {
    "name": "ipython",
    "version": 3
   },
   "file_extension": ".py",
   "mimetype": "text/x-python",
   "name": "python",
   "nbconvert_exporter": "python",
   "pygments_lexer": "ipython3",
   "version": "3.8.10"
  },
  "orig_nbformat": 4
 },
 "nbformat": 4,
 "nbformat_minor": 2
}
