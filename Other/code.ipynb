{
 "cells": [
  {
   "cell_type": "markdown",
   "metadata": {},
   "source": [
    "# Annahmen\n",
    " - der Spieler ist allwissend. Er sieht alle Spielsteine, auch den Spielstein außerhalb\n",
    " - das Laufen der Spielfigur ist optional\n",
    " - die Postion des Einschub des aussenstehenden Spielsteins wird durch den Spieler bestimmt\n",
    " - Die Spielfigur wird wenn sie rausfliegt auf das Feld gesetzt, dass sie hinaus geschoben hat"
   ]
  }
 ],
 "metadata": {
  "language_info": {
   "name": "python"
  },
  "orig_nbformat": 4
 },
 "nbformat": 4,
 "nbformat_minor": 2
}
